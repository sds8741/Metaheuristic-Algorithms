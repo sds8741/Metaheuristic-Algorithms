{
 "cells": [
  {
   "cell_type": "code",
   "execution_count": 2,
   "metadata": {},
   "outputs": [],
   "source": [
    "import numpy as np\n",
    "import math\n",
    "import random\n",
    "import matplotlib.pyplot as plt"
   ]
  },
  {
   "cell_type": "code",
   "execution_count": 3,
   "metadata": {},
   "outputs": [],
   "source": [
    "def gadecode(chrom,bits,x_lo,x_hi,y_lo,y_hi):\n",
    "    M,N = chrom.shape\n",
    "    quant = 0.5**((np.arange(1,bits+1))[np.newaxis].T)\n",
    "    quant = quant / quant.sum()\n",
    "    ct = chrom.reshape(npar*M,bits)\n",
    "    par_x = ((ct[::2].dot(quant))*(x_hi-x_lo)+x_lo)\n",
    "    par_y = ((ct[1::2].dot(quant))*(y_hi-y_lo)+y_lo)\n",
    "    f= np.concatenate([par_x,par_y],axis=1)\n",
    "    return f"
   ]
  },
  {
   "cell_type": "code",
   "execution_count": 4,
   "metadata": {},
   "outputs": [],
   "source": [
    "def sort_by_cost(cost,par,pop):\n",
    "    ind = np.argsort(cost)\n",
    "    cost = np.take_along_axis(cost,ind,axis=0)\n",
    "    par = par[ind]\n",
    "    pop = pop[ind]\n",
    "    return cost,par,pop"
   ]
  },
  {
   "cell_type": "code",
   "execution_count": 5,
   "metadata": {},
   "outputs": [],
   "source": [
    "def select_maxProb(cost , pop_size,keep):\n",
    "    M = math.ceil((pop_size - keep)/2)\n",
    "    # roulette wheel\n",
    "    prob = cost / cost.sum()\n",
    "    odds = np.cumsum(prob)\n",
    "    odds = np.insert(odds,0,0)\n",
    "    pick1 = np.random.rand(M)\n",
    "    pick2 = np.random.rand(M)\n",
    "    ic = 0\n",
    "    #The index of parent\n",
    "    ma=[]\n",
    "    pa=[]\n",
    "    while ic < M:\n",
    "        for id in range(0,len(cost)):\n",
    "            if pick1[ic] <= odds[id+1] and pick1[ic] > odds[id]:\n",
    "                ma.append(id)\n",
    "            if pick2[ic] <= odds[id+1] and pick2[ic] > odds[id]:\n",
    "                pa.append(id)\n",
    "        ic+=1\n",
    "        # check if it is identical index in ma pa\n",
    "        for a in range(len(ma)):\n",
    "            for b in range(a+1,len(ma)):\n",
    "                if ma[a] == ma[b] or pa[a] == pa[b]:\n",
    "                    ma=[]\n",
    "                    pa=[]\n",
    "                    pick1 = np.random.rand(M)\n",
    "                    pick2 = np.random.rand(M)\n",
    "                    ic = 0\n",
    "    return ma,pa"
   ]
  },
  {
   "cell_type": "code",
   "execution_count": 6,
   "metadata": {},
   "outputs": [],
   "source": [
    "def crossover(pop,bits,ma,pa,crossrate):\n",
    "    # do simple crossover\n",
    "    xp = np.ceil(np.random.rand(1)*(bits-1)).astype(int)[0]\n",
    "    tmp = pop.copy()\n",
    "    for m,p in zip(ma,pa):\n",
    "        if random.random() < crossrate:    \n",
    "            tmp[m,:bits] = np.concatenate([pop[m,0:xp],pop[p,xp:bits]])\n",
    "            tmp[p,:bits] = np.concatenate([pop[p,0:xp],pop[m,xp:bits]])\n",
    "            tmp[m,bits:] = np.concatenate([pop[m,bits:bits+xp],pop[p,bits+xp:]])\n",
    "            tmp[p,bits:] = np.concatenate([pop[p,bits:bits+xp],pop[m,bits+xp:]])\n",
    "    pop = tmp\n",
    "    return pop"
   ]
  },
  {
   "cell_type": "code",
   "execution_count": 7,
   "metadata": {},
   "outputs": [],
   "source": [
    "def mutation(pop,pop_size,keep,mut_rate):\n",
    "    M = math.ceil((pop_size - keep)/2)\n",
    "    ma_prob = np.random.rand(M)\n",
    "    pa_prob = np.random.rand(M)\n",
    "    for i in range(M):\n",
    "        if ma_prob[i] < mut_rate:\n",
    "            location =math.ceil(random.random() * 16)- 1\n",
    "            pop[ma[i],location] = abs(pop[ma[i],location] -1)\n",
    "        if pa_prob[i] < mut_rate:\n",
    "            location =math.ceil(random.random() * 16) - 1\n",
    "            pop[pa[i],location] = abs(pop[pa[i],location] -1)\n",
    "    return pop\n"
   ]
  },
  {
   "cell_type": "code",
   "execution_count": 8,
   "metadata": {},
   "outputs": [],
   "source": [
    "def ObjectiveFF(x,y):\n",
    "    ff = math.exp(-0.1*(x**4 + y**4)) + math.exp(math.cos(2*math.pi*x) +math.cos(2*math.pi*y))\n",
    "    return ff"
   ]
  },
  {
   "cell_type": "code",
   "execution_count": 9,
   "metadata": {},
   "outputs": [],
   "source": [
    "def handle1(par,total):\n",
    "    con = par.sum(axis=1) > total\n",
    "    off = par[con].sum(axis=1) - total\n",
    "    tem = par[con]\n",
    "    for i in range(len(par[con])):\n",
    "        tem[i] = par[con][i] - off[i]\n",
    "    par[con] = tem\n",
    "    return par\n"
   ]
  },
  {
   "cell_type": "code",
   "execution_count": 10,
   "metadata": {},
   "outputs": [],
   "source": [
    "def handle(par,total):\n",
    "    # handle x+y constraint to constraint/2\n",
    "    con = par.sum(axis=1) > total\n",
    "    par[con] = total / 2\n",
    "    return par"
   ]
  },
  {
   "cell_type": "code",
   "execution_count": 11,
   "metadata": {},
   "outputs": [],
   "source": [
    "# Define parameters\n",
    "\n",
    "npar = 2 #number of optimization variables\n",
    "pop_size = 16 # population size\n",
    "mut_rate = 0.3 # mutation rate\n",
    "selection = 0.5\n",
    "crossrate = 0.6 # crossover rate\n",
    "\n",
    "nbits = 8 # bits of chrom \n",
    "\n",
    "keep = int(math.floor(selection * pop_size))\n",
    "Nt = int(nbits*npar)\n"
   ]
  },
  {
   "cell_type": "code",
   "execution_count": 12,
   "metadata": {
    "tags": []
   },
   "outputs": [
    {
     "name": "stdout",
     "output_type": "stream",
     "text": [
      "Best solution 4.046906 at (-0.22,-0.96)  in 0 iteration\n",
      "Best solution 5.975601 at (-0.14,-1.04)  in 6 iteration\n",
      "Best solution 8.082118 at (-0.01,-1.04)  in 7 iteration\n",
      "Best solution 8.348810 at (-0.01,-0.01)  in 72 iteration\n",
      "Best solution 8.386814 at (-0.00,0.00)  in 2083 iteration\n"
     ]
    },
    {
     "data": {
      "image/png": "[encoded data removed]",
      "text/plain": [
       "<Figure size 432x288 with 1 Axes>"
      ]
     },
     "metadata": {
      "needs_background": "light"
     },
     "output_type": "display_data"
    }
   ],
   "source": [
    "#init poulation of chrom\n",
    "pop = np.around(np.random.rand(pop_size,Nt)).astype(int)\n",
    "# number of generation\n",
    "iteration = 10000\n",
    "# init \n",
    "iga = 0\n",
    "best = 0\n",
    "best_record=[]\n",
    "generation=[]\n",
    "# given best solution of problem\n",
    "solution = 8.3891\n",
    "\n",
    "# start optimization\n",
    "while( iga < iteration and round(best,3) != round(solution,3) ):\n",
    "    par = np.array(gadecode(pop,nbits,-1,1,-2,1))\n",
    "\n",
    "    par = handle(par,1)\n",
    "\n",
    "    cost = np.array([ObjectiveFF(x,y) for x,y in par])\n",
    "\n",
    "    cost,par,pop = sort_by_cost(cost,par,pop)\n",
    "    maxc = cost.max()\n",
    "    if maxc > best:\n",
    "        x = par[-1][0]\n",
    "        y = par[-1][1]\n",
    "        best = maxc\n",
    "        print(\"Best solution {:f} at ({:.2f},{:.2f})  in {:d} iteration\".format(best,x,y,iga))\n",
    "\n",
    "    best_record.append(best)\n",
    "    generation.append(iga+1)\n",
    "    ma , pa = select_maxProb(cost , pop_size,keep)\n",
    "    pop = crossover(pop,keep,nbits,ma,pa,crossrate)\n",
    "    pop = mutation(pop,pop_size,keep,mut_rate)\n",
    "    iga +=1\n",
    "\n",
    "# Plot evolution history\n",
    "plt.plot(generation,best_record,'b-',linewidth=4)\n",
    "plt.xlabel('generations')\n",
    "plt.ylabel('Objective function')\n",
    "plt.title('Evolution history')\n",
    "plt.grid(True)\n"
   ]
  }
 ],
 "metadata": {
  "kernelspec": {
   "display_name": "Python 3.7.6 64-bit ('base': conda)",
   "metadata": {
    "interpreter": {
     "hash": "4c532ce839bdf2eb55349490d9f00b3ca3b52dabe1213202a320fc0d1d212179"
    }
   },
   "name": "python3"
  },
  "language_info": {
   "codemirror_mode": {
    "name": "ipython",
    "version": 3
   },
   "file_extension": ".py",
   "mimetype": "text/x-python",
   "name": "python",
   "nbconvert_exporter": "python",
   "pygments_lexer": "ipython3",
   "version": "3.7.6"
  },
  "orig_nbformat": 2
 },
 "nbformat": 4,
 "nbformat_minor": 2
}
